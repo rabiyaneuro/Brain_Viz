{
 "cells": [
  {
   "cell_type": "raw",
   "metadata": {},
   "source": [
    "# TVB simulator stuff doens't work with Python 3\n",
    "\n",
    "# Generic imports\n",
    "\n",
    "import os,sys\n",
    "import numpy as np,pandas as pd\n",
    "\n",
    "# Visualization stuff\n",
    "\n",
    "%matplotlib inline\n",
    "from matplotlib import pyplot as plt\n",
    "import seaborn as sns\n",
    "\n",
    "\n",
    "# TVB stuff\n",
    "nbso,nbse = sys.stdout,sys.stderr # hack part 1/2 to keep output printing properly\n",
    "from tvb.simulator.lab import *\n",
    "sys.stdout,sys.stderr = nbso,nbse  # ...hack part 2/2\n",
    "#from tvb.simulator.plot.tools import plot_surface_mpl,plot_surface_mpl_mv"
   ]
  },
  {
   "cell_type": "markdown",
   "metadata": {},
   "source": [
    "input data:\n",
    "\n",
    "npz file shape [2,]\n",
    "0 - numpy object - nodes [n,3] (3 coordinates for each node)\n",
    "1 - numpy object - edge weight [n,n] symmetric- weights for each pair of nodes\n",
    "\n"
   ]
  },
  {
   "cell_type": "code",
   "execution_count": 2,
   "metadata": {},
   "outputs": [],
   "source": [
    "import pandas as pd\n",
    "import numpy as np"
   ]
  },
  {
   "cell_type": "code",
   "execution_count": 9,
   "metadata": {},
   "outputs": [
    {
     "name": "stderr",
     "output_type": "stream",
     "text": [
      "/Users/rabiyanoori/miniconda3/envs/py36/lib/python3.6/site-packages/ipykernel_launcher.py:4: ParserWarning: Falling back to the 'python' engine because the 'c' engine does not support regex separators (separators > 1 char and different from '\\s+' are interpreted as regex); you can avoid this warning by specifying engine='python'.\n",
      "  after removing the cwd from sys.path.\n"
     ]
    }
   ],
   "source": [
    "# tvb data\n",
    "# get the coordinates data\n",
    "#sep is a regex expression bc the delimeter ranges from 1-3 white spaces\n",
    "\n",
    "df = pd.read_csv(\"/Users/rabiyanoori/Documents/brainy pics/for_jeremie/centres.txt\", sep = \" * \", header=None)\n",
    "coords_data = df.to_numpy()\n",
    "coords_data = coords_data[:,1:4]\n",
    "3np.save(\"coords.npy\", coords_data)"
   ]
  },
  {
   "cell_type": "code",
   "execution_count": 10,
   "metadata": {},
   "outputs": [
    {
     "name": "stderr",
     "output_type": "stream",
     "text": [
      "/Users/rabiyanoori/miniconda3/envs/py36/lib/python3.6/site-packages/ipykernel_launcher.py:4: ParserWarning: Falling back to the 'python' engine because the 'c' engine does not support regex separators (separators > 1 char and different from '\\s+' are interpreted as regex); you can avoid this warning by specifying engine='python'.\n",
      "  after removing the cwd from sys.path.\n"
     ]
    }
   ],
   "source": [
    "# tvb data\n",
    "# get the weights data\n",
    "#sep is a regex expression bc the delimeter ranges from 1-3 white spaces\n",
    "\n",
    "df = pd.read_csv(\"/Users/rabiyanoori/Documents/brainy pics/for_jeremie/weights.txt\", sep = \" * \", header=None)\n",
    "weights_data = df.to_numpy()\n",
    "weights_data\n",
    "#np.save(\"weights.npy\", weights_data)"
   ]
  },
  {
   "cell_type": "code",
   "execution_count": 9,
   "metadata": {},
   "outputs": [
    {
     "name": "stderr",
     "output_type": "stream",
     "text": [
      "/Users/rabiyanoori/miniconda3/envs/py36/lib/python3.6/site-packages/ipykernel_launcher.py:4: ParserWarning: Falling back to the 'python' engine because the 'c' engine does not support regex separators (separators > 1 char and different from '\\s+' are interpreted as regex); you can avoid this warning by specifying engine='python'.\n",
      "  after removing the cwd from sys.path.\n"
     ]
    }
   ],
   "source": [
    "# the data that jeremie sent\n",
    "# get the coordinates data\n",
    "#sep is a regex expression bc the delimeter ranges from 1-3 white spaces\n",
    "\n",
    "df = pd.read_csv(\"/Users/rabiyanoori/Documents/brainy pics/for_jeremie/centres.txt\", sep = \" * \", header=None)\n",
    "coords_data = df.to_numpy()\n",
    "coords_data = coords_data[:,1:4]\n",
    "3np.save(\"coords.npy\", coords_data)"
   ]
  },
  {
   "cell_type": "code",
   "execution_count": null,
   "metadata": {},
   "outputs": [],
   "source": [
    "from visbrain.objects import ConnectObj, SceneObj, SourceObj, BrainObj\n",
    "from visbrain.io import download_file\n",
    "arch = np.load(download_file('phase_sync_delta.npz', astype='example_data'))"
   ]
  },
  {
   "cell_type": "code",
   "execution_count": null,
   "metadata": {},
   "outputs": [],
   "source": [
    "nodes, edges = arch['nodes'], arch['edges']\n",
    "# Create the scene with a black background\n",
    "sc = SceneObj(size=(1500, 600))\n"
   ]
  },
  {
   "cell_type": "code",
   "execution_count": null,
   "metadata": {},
   "outputs": [],
   "source": [
    "import seaborn as sns\n",
    "sns.heatmap(edges)\n"
   ]
  },
  {
   "cell_type": "code",
   "execution_count": null,
   "metadata": {},
   "outputs": [],
   "source": [
    "import matplotlib.pyplot as plt\n",
    "\n",
    "plt.show()"
   ]
  },
  {
   "cell_type": "code",
   "execution_count": null,
   "metadata": {},
   "outputs": [],
   "source": [
    "edges[46,7] ==edges[7,46]"
   ]
  },
  {
   "cell_type": "code",
   "execution_count": null,
   "metadata": {},
   "outputs": [],
   "source": []
  }
 ],
 "metadata": {
  "kernelspec": {
   "display_name": "Python [conda env:py36]",
   "language": "python",
   "name": "py36"
  },
  "language_info": {
   "codemirror_mode": {
    "name": "ipython",
    "version": 3
   },
   "file_extension": ".py",
   "mimetype": "text/x-python",
   "name": "python",
   "nbconvert_exporter": "python",
   "pygments_lexer": "ipython3",
   "version": "3.6.8"
  }
 },
 "nbformat": 4,
 "nbformat_minor": 2
}
