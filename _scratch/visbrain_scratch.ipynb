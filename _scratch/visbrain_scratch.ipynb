{
 "cells": [
  {
   "cell_type": "code",
   "execution_count": 23,
   "metadata": {},
   "outputs": [
    {
     "data": {
      "image/png": "[encoded data removed]",
      "text/plain": [
       "<matplotlib.figure.Figure at 0x118425208>"
      ]
     },
     "metadata": {
      "needs_background": "light"
     },
     "output_type": "display_data"
    }
   ],
   "source": [
    "#old\n",
    "\n",
    "import matplotlib.pyplot as plt\n",
    "import matplotlib as mpl\n",
    "%matplotlib inline\n",
    "#fig, ax = plt.subplots(figsize=(6, 1))\n",
    "fig, ax = plt.subplots(figsize=(0.5, 10))\n",
    "\n",
    "\n",
    "fig.subplots_adjust(bottom=0.5)\n",
    "\n",
    "cmap = mpl.colors.ListedColormap(['#686868', 'black', 'rebeccapurple', 'mediumvioletred', 'darkorange'])\n",
    "# cmap.set_over('0.25')\n",
    "# cmap.set_under('0.75')\n",
    "\n",
    "bounds = [0, 10, 20, 30, 40, 50]\n",
    "norm = mpl.colors.BoundaryNorm(bounds, cmap.N)\n",
    "cb2 = mpl.colorbar.ColorbarBase(ax, cmap=cmap,\n",
    "                                norm=norm,\n",
    "                                boundaries=bounds + [60],\n",
    "#                                 extend='both',\n",
    "                                ticks=bounds,\n",
    "                                spacing='proportional',\n",
    "                                orientation='vertical')\n",
    "# cb2.set_label('Discrete intervals, some other units')\n",
    "fig.show()\n"
   ]
  },
  {
   "cell_type": "code",
   "execution_count": 24,
   "metadata": {},
   "outputs": [
    {
     "data": {
      "image/png": "[encoded data removed]",
      "text/plain": [
       "<matplotlib.figure.Figure at 0x118555eb8>"
      ]
     },
     "metadata": {
      "needs_background": "light"
     },
     "output_type": "display_data"
    }
   ],
   "source": [
    "#new\n",
    "\n",
    "import matplotlib.pyplot as plt\n",
    "import matplotlib as mpl\n",
    "%matplotlib inline\n",
    "#fig, ax = plt.subplots(figsize=(6, 1))\n",
    "fig, ax = plt.subplots(figsize=(0.5, 10))\n",
    "\n",
    "\n",
    "fig.subplots_adjust(bottom=0.5)\n",
    "\n",
    "#cmap = mpl.colors.ListedColormap(['#686868', 'red', 'orange', 'y', 'green','blue', 'purple', 'deeppink'])\n",
    "cmap = mpl.colors.ListedColormap(['#686868', 'black', 'blue', 'green', 'yellow','orange', 'red', 'maroon'])\n",
    "\n",
    "\n",
    "# cmap.set_over('0.25')\n",
    "# cmap.set_under('0.75')\n",
    "\n",
    "bounds = [0, 10, 20, 30, 40, 50, 60,70, 100]\n",
    "norm = mpl.colors.BoundaryNorm(bounds, cmap.N)\n",
    "cb2 = mpl.colorbar.ColorbarBase(ax, cmap=cmap,\n",
    "                                norm=norm,\n",
    "                                boundaries=bounds,\n",
    "#                                 extend='both',\n",
    "                                ticks=bounds,\n",
    "                                spacing='proportional',\n",
    "                                orientation='vertical')\n",
    "# cb2.set_label('Discrete intervals, some other units')\n",
    "fig.show()\n"
   ]
  },
  {
   "cell_type": "raw",
   "metadata": {},
   "source": [
    "# TVB simulator stuff doens't work with Python 3\n",
    "\n",
    "# Generic imports\n",
    "\n",
    "import os,sys\n",
    "import numpy as np,pandas as pd\n",
    "\n",
    "# Visualization stuff\n",
    "\n",
    "%matplotlib inline\n",
    "from matplotlib import pyplot as plt\n",
    "import seaborn as sns\n",
    "\n",
    "\n",
    "# TVB stuff\n",
    "nbso,nbse = sys.stdout,sys.stderr # hack part 1/2 to keep output printing properly\n",
    "from tvb.simulator.lab import *\n",
    "sys.stdout,sys.stderr = nbso,nbse  # ...hack part 2/2\n",
    "#from tvb.simulator.plot.tools import plot_surface_mpl,plot_surface_mpl_mv"
   ]
  },
  {
   "cell_type": "markdown",
   "metadata": {},
   "source": [
    "input data:\n",
    "\n",
    "npz file shape [2,]\n",
    "0 - numpy object - nodes [n,3] (3 coordinates for each node)\n",
    "1 - numpy object - edge weight [n,n] symmetric- weights for each pair of nodes\n",
    "\n"
   ]
  },
  {
   "cell_type": "code",
   "execution_count": null,
   "metadata": {},
   "outputs": [],
   "source": [
    "import pandas as pd\n",
    "import numpy as np\n",
    "import matplotlib.pyplot as plt\n",
    "%matplotlib inline"
   ]
  },
  {
   "cell_type": "code",
   "execution_count": null,
   "metadata": {},
   "outputs": [],
   "source": [
    "# tvb data\n",
    "# get the coordinates data\n",
    "#sep is a regex expression bc the delimeter ranges from 1-3 white spaces\n",
    "\n",
    "df = pd.read_csv(\"/Users/rabiyanoori/Documents/GitHub/Brain_Viz/_scratch/centres.txt\", sep = \" * \", header=None)\n",
    "coords_data = df.to_numpy()\n",
    "coord_names = coords_data[:,0]\n",
    "#coords_data = coords_data[:,1:4]\n",
    "#np.save(\"coords.npy\", coords_data)"
   ]
  },
  {
   "cell_type": "code",
   "execution_count": null,
   "metadata": {},
   "outputs": [],
   "source": [
    "# tvb data\n",
    "# get the weights data\n",
    "#sep is a regex expression bc the delimeter ranges from 1-3 white spaces\n",
    "\n",
    "df = pd.read_csv(\"/Users/rabiyanoori/Documents/GitHub/Brain_Viz/weights.txt\", sep = \" * \", header=None)\n",
    "weights_data = df.to_numpy()\n",
    "weights_data\n",
    "#np.save(\"weights.npy\", weights_data)"
   ]
  },
  {
   "cell_type": "code",
   "execution_count": null,
   "metadata": {},
   "outputs": [],
   "source": [
    "plt.hist(weights_data)\n",
    "plt.show()\n",
    "print()"
   ]
  },
  {
   "cell_type": "code",
   "execution_count": null,
   "metadata": {},
   "outputs": [],
   "source": [
    "weights_data > 2"
   ]
  },
  {
   "cell_type": "markdown",
   "metadata": {},
   "source": [
    "# Importing Jeremie's Data"
   ]
  },
  {
   "cell_type": "code",
   "execution_count": null,
   "metadata": {},
   "outputs": [],
   "source": [
    "# the data that jeremie sent\n",
    "# get the weights data\n",
    "#sep is a regex expression bc the delimeter ranges from 1-3 white spaces\n",
    "\n",
    "df = pd.read_csv(\"/Users/rabiyanoori/Documents/GitHub/Brain_Viz/_scratch/Weights96.txt\", sep = \" * \", header=None)\n",
    "weights_j = df.to_numpy()\n",
    "weights_j\n",
    "# np.save(\"weights_j.npy\", weights_j)"
   ]
  },
  {
   "cell_type": "code",
   "execution_count": null,
   "metadata": {},
   "outputs": [],
   "source": [
    "# the data that jeremie sent\n",
    "# get the lengths data\n",
    "#sep is a regex expression bc the delimeter ranges from 1-3 white spaces\n",
    "\n",
    "df = pd.read_csv(\"/Users/rabiyanoori/Documents/GitHub/Brain_Viz/_scratch/Lengths96.txt\", sep = \" * \", header=None)\n",
    "lengths_j = df.to_numpy()\n",
    "lengths_j\n",
    "# np.save(\"weights_j.npy\", weights_j)"
   ]
  },
  {
   "cell_type": "code",
   "execution_count": null,
   "metadata": {},
   "outputs": [],
   "source": [
    "# the data that jeremie sent\n",
    "# get the coordinates data\n",
    "#sep is a regex expression bc the delimeter ranges from 1-3 white spaces\n",
    "\n",
    "#df = pd.read_csv(\"/Users/rabiyanoori/Documents/GitHub/Brain_Viz/_scratch/Kuramoto - Conduction speed matrix - before.txt\", sep='\\t', header=None)\n",
    "df = pd.read_csv(\"/Users/rabiyanoori/Documents/GitHub/Brain_Viz/_scratch/Kuramoto - Conduction speed matrix - after.txt\", sep='\\t', header=None)\n",
    "\n",
    "\n",
    "temp = df.to_numpy()\n",
    "cv_data = np.ones((96,96))*-999\n",
    "cntr = 0\n",
    "for i in range(96):\n",
    "    for j in range(96):\n",
    "        cv_data[i,j] = temp[cntr,3]\n",
    "        cntr= cntr + 1\n",
    "#np.save(\"cv_before.npy\", cv_data)\n",
    "plt.hist(cv_data)\n",
    "plt.show()\n",
    "print(np.min(cv_data), np.max(cv_data))\n"
   ]
  },
  {
   "cell_type": "markdown",
   "metadata": {},
   "source": [
    "# Plotting"
   ]
  },
  {
   "cell_type": "code",
   "execution_count": null,
   "metadata": {},
   "outputs": [],
   "source": [
    "import seaborn as sns\n",
    "import matplotlib.pyplot as plt\n",
    "%matplotlib inline"
   ]
  },
  {
   "cell_type": "code",
   "execution_count": null,
   "metadata": {},
   "outputs": [],
   "source": [
    "\n",
    "cmap = \"viridis\"\n"
   ]
  },
  {
   "cell_type": "code",
   "execution_count": null,
   "metadata": {},
   "outputs": [],
   "source": [
    "coord_names_skip = np.copy(coord_names)\n",
    "for i in range(len(coord_names)):\n",
    "    if i%6 !=0:\n",
    "        coord_names_skip[i] = \"\""
   ]
  },
  {
   "cell_type": "code",
   "execution_count": null,
   "metadata": {},
   "outputs": [],
   "source": [
    "plt.figure(figsize=(17, 17))\n",
    "\n",
    "\n",
    "# plt.figure(dpi = 200)\n",
    "sns.heatmap(lengths_j, \n",
    "           cmap = cmap,\n",
    "            yticklabels = coord_names_skip,\n",
    "            xticklabels= [],\n",
    "             square = True\n",
    "           )\n",
    "plt.yticks(fontsize = 8, multialignment ='center')\n",
    "plt.tight_layout()\n",
    "plt.savefig(\"small_mat.jpg\",dpi=1000, transparent = True)\n",
    "plt.show()"
   ]
  },
  {
   "cell_type": "code",
   "execution_count": null,
   "metadata": {},
   "outputs": [],
   "source": [
    "plt.figure(figsize=(17, 17))\n",
    "# plt.figure(dpi = 200)\n",
    "\n",
    "\n",
    "sns.heatmap(lengths_j, \n",
    "           cmap = cmap,\n",
    "            yticklabels = coord_names,\n",
    "            xticklabels= [],\n",
    "            square = True\n",
    "           )\n",
    "plt.yticks(fontsize = 8, multialignment ='center')\n",
    "plt.savefig(\"big_mat.jpg\", dpi=1000, transparent = True)\n",
    "plt.show()"
   ]
  },
  {
   "cell_type": "code",
   "execution_count": null,
   "metadata": {},
   "outputs": [],
   "source": []
  },
  {
   "cell_type": "code",
   "execution_count": null,
   "metadata": {},
   "outputs": [],
   "source": [
    "import numpy as np\n",
    "import matplotlib.pyplot as plt\n",
    "\n",
    "from matplotlib.ticker import MaxNLocator\n",
    "from mpl_toolkits.axes_grid1.inset_locator import mark_inset\n",
    "from mpl_toolkits.axes_grid1.inset_locator import zoomed_inset_axes\n",
    "\n",
    "dtype = [('temp', 'f4'), ('depth', 'f4')]\n",
    "kw = dict(usecols=(0, 1), dtype=dtype)\n",
    "xbt_raw = np.genfromtxt('./data/C4_XBT_22.EDF', skip_header=41, **kw)\n",
    "xbt_smoo = np.loadtxt('./data/C4_XBT_22.ASC', **kw)\n",
    "ctd = np.loadtxt(\"./data/C4_CTD_22.ASC\", **kw)\n",
    "deg = u\"\\u00b0\"\n",
    "raw = dict(color='#FF8000', marker='.', linestyle='none', alpha=0.5, label='XBT Raw')\n",
    "smoo = dict(color='#2E2E2E', linestyle='-.', label='XBT Smooth')\n",
    "comp = dict(color='#0B610B', label='CTD')\n",
    "\n",
    "fig, ax = plt.subplots(figsize=(4, 6))\n",
    "ax.invert_yaxis()\n",
    "ax.plot(ctd['depth'], ctd['temp'], **comp)\n",
    "ax.plot(xbt_raw['depth'], xbt_raw['temp'], **raw)\n",
    "ax.plot(xbt_smoo['depth'], xbt_smoo['temp'], **smoo)\n",
    "ax.set_ylabel('Pressure [dbar]')\n",
    "ax.set_xlabel(u'Temperature %sC' % deg)\n",
    "ax.legend(numpoints=1, loc='upper left')\n",
    "\n",
    "# Zoom 1.\n",
    "axins = zoomed_inset_axes(ax, 5, loc=5)\n",
    "axins.plot(ctd['depth'], ctd['temp'], **comp)\n",
    "axins.plot(xbt_raw['depth'], xbt_raw['temp'], **raw)\n",
    "axins.plot(xbt_smoo['depth'], xbt_smoo['temp'], **smoo)\n",
    "axins.invert_yaxis()\n",
    "axins.axis([3.5, 3.8, 1420, 1300])\n",
    "axins.xaxis.tick_top()\n",
    "mark_inset(ax, axins, loc1=2, loc2=4, fc=\"none\", ec=\"0.5\")\n",
    "axins.xaxis.set_major_locator(MaxNLocator(nbins=1, prune='lower'))\n",
    "\n",
    "# Zoom 2.\n",
    "axins_2 = zoomed_inset_axes(axins, 10,  loc=4,\n",
    "                     bbox_to_anchor=(1.2, 0.75),\n",
    "                     bbox_transform=ax.figure.transFigure)\n",
    "\n",
    "axins_2.plot(ctd['depth'], ctd['temp'], **comp)\n",
    "axins_2.plot(xbt_raw['depth'], xbt_raw['temp'], **raw)\n",
    "axins_2.plot(xbt_smoo['depth'], xbt_smoo['temp'], **smoo)\n",
    "axins_2.axis([3.6, 3.75, 1360, 1340])\n",
    "axins_2.invert_yaxis()\n",
    "axins_2.set_yticks([])\n",
    "axins_2.set_xticks([])\n",
    "axins_2.set_axis_bgcolor('none')\n",
    "axes = mark_inset(axins, axins_2, loc1=2, loc2=4, fc=\"none\", ec=\"0.5\")"
   ]
  },
  {
   "cell_type": "code",
   "execution_count": null,
   "metadata": {},
   "outputs": [],
   "source": [
    "sns.heatmap(weights_j,\n",
    "           cmap = cmap)"
   ]
  },
  {
   "cell_type": "code",
   "execution_count": null,
   "metadata": {},
   "outputs": [],
   "source": [
    "plt.hist(weights_j)\n",
    "plt.show()\n",
    "cv_data[cv_data > 3.]"
   ]
  },
  {
   "cell_type": "code",
   "execution_count": null,
   "metadata": {},
   "outputs": [],
   "source": [
    "from visbrain.objects import ConnectObj, SceneObj, SourceObj, BrainObj\n",
    "from visbrain.io import download_file\n",
    "arch = np.load(download_file('phase_sync_delta.npz', astype='example_data'))"
   ]
  },
  {
   "cell_type": "code",
   "execution_count": null,
   "metadata": {},
   "outputs": [],
   "source": [
    "nodes, edges = arch['nodes'], arch['edges']\n",
    "# Create the scene with a black background\n",
    "sc = SceneObj(size=(1500, 600))\n"
   ]
  },
  {
   "cell_type": "code",
   "execution_count": null,
   "metadata": {},
   "outputs": [],
   "source": [
    "import seaborn as sns\n",
    "sns.heatmap(edges)\n"
   ]
  },
  {
   "cell_type": "code",
   "execution_count": null,
   "metadata": {},
   "outputs": [],
   "source": [
    "import matplotlib.pyplot as plt\n",
    "\n",
    "plt.show()"
   ]
  },
  {
   "cell_type": "code",
   "execution_count": null,
   "metadata": {},
   "outputs": [],
   "source": [
    "edges[46,7] ==edges[7,46]"
   ]
  },
  {
   "cell_type": "code",
   "execution_count": null,
   "metadata": {},
   "outputs": [],
   "source": [
    "temp = np.ones((4,4))\n",
    "temp[0,2] = 34\n",
    "temp[0,3] = 20"
   ]
  },
  {
   "cell_type": "code",
   "execution_count": null,
   "metadata": {},
   "outputs": [],
   "source": [
    "temp"
   ]
  },
  {
   "cell_type": "code",
   "execution_count": null,
   "metadata": {},
   "outputs": [],
   "source": [
    "thing1 = temp > 10"
   ]
  },
  {
   "cell_type": "code",
   "execution_count": null,
   "metadata": {},
   "outputs": [],
   "source": [
    "thing2 = temp < 25"
   ]
  },
  {
   "cell_type": "code",
   "execution_count": null,
   "metadata": {},
   "outputs": [],
   "source": [
    "thing1 == thing2"
   ]
  },
  {
   "cell_type": "code",
   "execution_count": null,
   "metadata": {},
   "outputs": [],
   "source": []
  }
 ],
 "metadata": {
  "kernelspec": {
   "display_name": "Python [conda env:py36]",
   "language": "python",
   "name": "py36"
  },
  "language_info": {
   "codemirror_mode": {
    "name": "ipython",
    "version": 3
   },
   "file_extension": ".py",
   "mimetype": "text/x-python",
   "name": "python",
   "nbconvert_exporter": "python",
   "pygments_lexer": "ipython3",
   "version": "3.6.8"
  }
 },
 "nbformat": 4,
 "nbformat_minor": 2
}
