{
 "cells": [
  {
   "cell_type": "code",
   "execution_count": 1,
   "metadata": {},
   "outputs": [
    {
     "name": "stderr",
     "output_type": "stream",
     "text": [
      "/Users/rabiyanoori/.local/lib/python3.6/site-packages/matplotlib/figure.py:418: UserWarning: matplotlib is currently using a non-GUI backend, so cannot show the figure\n",
      "  \"matplotlib is currently using a non-GUI backend, \"\n"
     ]
    },
    {
     "data": {
      "image/png": "[encoded data removed]",
      "text/plain": [
       "<matplotlib.figure.Figure at 0x106d73978>"
      ]
     },
     "metadata": {
      "needs_background": "light"
     },
     "output_type": "display_data"
    }
   ],
   "source": [
    "#old\n",
    "\n",
    "import matplotlib.pyplot as plt\n",
    "import matplotlib as mpl\n",
    "%matplotlib inline\n",
    "#fig, ax = plt.subplots(figsize=(6, 1))\n",
    "fig, ax = plt.subplots(figsize=(0.5, 10))\n",
    "\n",
    "\n",
    "fig.subplots_adjust(bottom=0.5)\n",
    "\n",
    "cmap = mpl.colors.ListedColormap(['#686868', 'black', 'rebeccapurple', 'mediumvioletred', 'darkorange'])\n",
    "# cmap.set_over('0.25')\n",
    "# cmap.set_under('0.75')\n",
    "\n",
    "bounds = [0, 10, 20, 30, 40, 50]\n",
    "norm = mpl.colors.BoundaryNorm(bounds, cmap.N)\n",
    "cb2 = mpl.colorbar.ColorbarBase(ax, cmap=cmap,\n",
    "                                norm=norm,\n",
    "                                boundaries=bounds + [60],\n",
    "#                                 extend='both',\n",
    "                                ticks=bounds,\n",
    "                                spacing='proportional',\n",
    "                                orientation='vertical')\n",
    "# cb2.set_label('Discrete intervals, some other units')\n",
    "fig.show()\n"
   ]
  },
  {
   "cell_type": "code",
   "execution_count": 17,
   "metadata": {},
   "outputs": [
    {
     "data": {
      "text/plain": [
       "array([ True,  True])"
      ]
     },
     "execution_count": 17,
     "metadata": {},
     "output_type": "execute_result"
    }
   ],
   "source": [
    "import numpy as np\n",
    "select0 = np.array([2,2]) > 0\n",
    "select00 = np.array([2,2]) <10\n",
    "select_0 = select0 == select00\n",
    "select_0[0] = True\n",
    "select0"
   ]
  },
  {
   "cell_type": "code",
   "execution_count": 24,
   "metadata": {},
   "outputs": [
    {
     "data": {
      "image/png": "[encoded data removed]",
      "text/plain": [
       "<matplotlib.figure.Figure at 0x118555eb8>"
      ]
     },
     "metadata": {
      "needs_background": "light"
     },
     "output_type": "display_data"
    }
   ],
   "source": [
    "#new\n",
    "\n",
    "import matplotlib.pyplot as plt\n",
    "import matplotlib as mpl\n",
    "%matplotlib inline\n",
    "#fig, ax = plt.subplots(figsize=(6, 1))\n",
    "fig, ax = plt.subplots(figsize=(0.5, 10))\n",
    "\n",
    "\n",
    "fig.subplots_adjust(bottom=0.5)\n",
    "\n",
    "#cmap = mpl.colors.ListedColormap(['#686868', 'red', 'orange', 'y', 'green','blue', 'purple', 'deeppink'])\n",
    "cmap = mpl.colors.ListedColormap(['#686868', 'black', 'blue', 'green', 'yellow','orange', 'red', 'maroon'])\n",
    "\n",
    "\n",
    "# cmap.set_over('0.25')\n",
    "# cmap.set_under('0.75')\n",
    "\n",
    "bounds = [0, 10, 20, 30, 40, 50, 60,70, 100]\n",
    "norm = mpl.colors.BoundaryNorm(bounds, cmap.N)\n",
    "cb2 = mpl.colorbar.ColorbarBase(ax, cmap=cmap,\n",
    "                                norm=norm,\n",
    "                                boundaries=bounds,\n",
    "#                                 extend='both',\n",
    "                                ticks=bounds,\n",
    "                                spacing='proportional',\n",
    "                                orientation='vertical')\n",
    "# cb2.set_label('Discrete intervals, some other units')\n",
    "fig.show()\n"
   ]
  },
  {
   "cell_type": "code",
   "execution_count": 48,
   "metadata": {},
   "outputs": [
    {
     "data": {
      "image/png": "[encoded data removed]",
      "text/plain": [
       "<matplotlib.figure.Figure at 0x121591dd8>"
      ]
     },
     "metadata": {
      "needs_background": "light"
     },
     "output_type": "display_data"
    }
   ],
   "source": [
    "#new\n",
    "\n",
    "import matplotlib.pyplot as plt\n",
    "import matplotlib as mpl\n",
    "%matplotlib inline\n",
    "#fig, ax = plt.subplots(figsize=(6, 1))\n",
    "fig, ax = plt.subplots(figsize=(0.5, 10))\n",
    "\n",
    "\n",
    "fig.subplots_adjust(bottom=0.5)\n",
    "\n",
    "#cmap = mpl.colors.ListedColormap(['#686868', 'red', 'orange', 'y', 'green','blue', 'purple', 'deeppink'])\n",
    "cmap = mpl.colors.ListedColormap(['#686868', 'black', 'blue', 'green', 'yellow','orange', 'red', 'maroon'])\n",
    "\n",
    "\n",
    "# cmap.set_over('0.25')\n",
    "# cmap.set_under('0.75')\n",
    "\n",
    "bounds = [0.5, 1,2, 3, 4, 5, 6,7, 10]\n",
    "norm = mpl.colors.BoundaryNorm(bounds, cmap.N)\n",
    "cb2 = mpl.colorbar.ColorbarBase(ax, cmap=cmap,\n",
    "                                norm=norm,\n",
    "                                boundaries=bounds,\n",
    "#                                 extend='both',\n",
    "                                ticks=bounds,\n",
    "                                spacing='proportional',\n",
    "                                orientation='vertical')\n",
    "# cb2.set_label('Discrete intervals, some other units')\n",
    "fig.show()\n"
   ]
  },
  {
   "cell_type": "code",
   "execution_count": 28,
   "metadata": {},
   "outputs": [
    {
     "data": {
      "image/png": "[encoded data removed]",
      "text/plain": [
       "<matplotlib.figure.Figure at 0x1161e3cf8>"
      ]
     },
     "metadata": {
      "needs_background": "light"
     },
     "output_type": "display_data"
    }
   ],
   "source": [
    "#new\n",
    "\n",
    "import matplotlib.pyplot as plt\n",
    "import matplotlib as mpl\n",
    "%matplotlib inline\n",
    "#fig, ax = plt.subplots(figsize=(6, 1))\n",
    "fig, ax = plt.subplots(figsize=(0.5, 10))\n",
    "\n",
    "\n",
    "fig.subplots_adjust(bottom=0.5)\n",
    "\n",
    "#cmap = mpl.colors.ListedColormap(['#686868', 'red', 'orange', 'y', 'green','blue', 'purple', 'deeppink'])\n",
    "cmap = mpl.colors.ListedColormap(['black','midnightblue', 'navy', 'mediumblue','dodgerblue','steelblue', 'skyblue'])\n",
    "#cmap = mpl.colors.ListedColormap(['midnightblue', 'navy', 'darkblue', 'mediumblue', 'blue','dodgerblue', 'deepskyblue','aqua'])\n",
    "\n",
    "\n",
    "\n",
    "\n",
    "# cmap.set_over('0.25')\n",
    "# cmap.set_under('0.75')\n",
    "\n",
    "bounds = [0.5, 2,4, 6, 8, 9, 10]\n",
    "norm = mpl.colors.BoundaryNorm(bounds, cmap.N)\n",
    "cb2 = mpl.colorbar.ColorbarBase(ax, cmap=cmap,\n",
    "                                norm=norm,\n",
    "                                boundaries=bounds,\n",
    "#                                 extend='both',\n",
    "                                ticks=bounds,\n",
    "                                spacing='proportional',\n",
    "                                orientation='vertical')\n",
    "# cb2.set_label('Discrete intervals, some other units')\n",
    "fig.show()\n"
   ]
  },
  {
   "cell_type": "raw",
   "metadata": {},
   "source": [
    "# TVB simulator stuff doens't work with Python 3\n",
    "\n",
    "# Generic imports\n",
    "\n",
    "import os,sys\n",
    "import numpy as np,pandas as pd\n",
    "\n",
    "# Visualization stuff\n",
    "\n",
    "%matplotlib inline\n",
    "from matplotlib import pyplot as plt\n",
    "import seaborn as sns\n",
    "\n",
    "\n",
    "# TVB stuff\n",
    "nbso,nbse = sys.stdout,sys.stderr # hack part 1/2 to keep output printing properly\n",
    "from tvb.simulator.lab import *\n",
    "sys.stdout,sys.stderr = nbso,nbse  # ...hack part 2/2\n",
    "#from tvb.simulator.plot.tools import plot_surface_mpl,plot_surface_mpl_mv"
   ]
  },
  {
   "cell_type": "markdown",
   "metadata": {},
   "source": [
    "input data:\n",
    "\n",
    "npz file shape [2,]\n",
    "0 - numpy object - nodes [n,3] (3 coordinates for each node)\n",
    "1 - numpy object - edge weight [n,n] symmetric- weights for each pair of nodes\n",
    "\n"
   ]
  },
  {
   "cell_type": "code",
   "execution_count": 1,
   "metadata": {},
   "outputs": [],
   "source": [
    "import pandas as pd\n",
    "import numpy as np\n",
    "import matplotlib.pyplot as plt\n",
    "%matplotlib inline"
   ]
  },
  {
   "cell_type": "code",
   "execution_count": 1,
   "metadata": {},
   "outputs": [
    {
     "ename": "NameError",
     "evalue": "name 'pd' is not defined",
     "output_type": "error",
     "traceback": [
      "\u001b[0;31m---------------------------------------------------------------------------\u001b[0m",
      "\u001b[0;31mNameError\u001b[0m                                 Traceback (most recent call last)",
      "\u001b[0;32m<ipython-input-1-3644462e4576>\u001b[0m in \u001b[0;36m<module>\u001b[0;34m\u001b[0m\n\u001b[1;32m      3\u001b[0m \u001b[0;31m#sep is a regex expression bc the delimeter ranges from 1-3 white spaces\u001b[0m\u001b[0;34m\u001b[0m\u001b[0;34m\u001b[0m\u001b[0;34m\u001b[0m\u001b[0m\n\u001b[1;32m      4\u001b[0m \u001b[0;34m\u001b[0m\u001b[0m\n\u001b[0;32m----> 5\u001b[0;31m \u001b[0mdf\u001b[0m \u001b[0;34m=\u001b[0m \u001b[0mpd\u001b[0m\u001b[0;34m.\u001b[0m\u001b[0mread_csv\u001b[0m\u001b[0;34m(\u001b[0m\u001b[0;34m\"/Users/rabiyanoori/Documents/GitHub/Brain_Viz/_scratch/centres.txt\"\u001b[0m\u001b[0;34m,\u001b[0m \u001b[0msep\u001b[0m \u001b[0;34m=\u001b[0m \u001b[0;34m\" * \"\u001b[0m\u001b[0;34m,\u001b[0m \u001b[0mheader\u001b[0m\u001b[0;34m=\u001b[0m\u001b[0;32mNone\u001b[0m\u001b[0;34m)\u001b[0m\u001b[0;34m\u001b[0m\u001b[0;34m\u001b[0m\u001b[0m\n\u001b[0m\u001b[1;32m      6\u001b[0m \u001b[0mcoords_data\u001b[0m \u001b[0;34m=\u001b[0m \u001b[0mdf\u001b[0m\u001b[0;34m.\u001b[0m\u001b[0mto_numpy\u001b[0m\u001b[0;34m(\u001b[0m\u001b[0;34m)\u001b[0m\u001b[0;34m\u001b[0m\u001b[0;34m\u001b[0m\u001b[0m\n\u001b[1;32m      7\u001b[0m \u001b[0mcoord_names\u001b[0m \u001b[0;34m=\u001b[0m \u001b[0mcoords_data\u001b[0m\u001b[0;34m[\u001b[0m\u001b[0;34m:\u001b[0m\u001b[0;34m,\u001b[0m\u001b[0;36m0\u001b[0m\u001b[0;34m]\u001b[0m\u001b[0;34m\u001b[0m\u001b[0;34m\u001b[0m\u001b[0m\n",
      "\u001b[0;31mNameError\u001b[0m: name 'pd' is not defined"
     ]
    }
   ],
   "source": [
    "# tvb data\n",
    "# get the coordinates data\n",
    "#sep is a regex expression bc the delimeter ranges from 1-3 white spaces\n",
    "\n",
    "df = pd.read_csv(\"/Users/rabiyanoori/Documents/GitHub/Brain_Viz/_scratch/centres.txt\", sep = \" * \", header=None)\n",
    "coords_data = df.to_numpy()\n",
    "coord_names = coords_data[:,0]\n",
    "#coords_data = coords_data[:,1:4]\n",
    "#np.save(\"coords.npy\", coords_data)\n",
    "coord_names"
   ]
  },
  {
   "cell_type": "code",
   "execution_count": 6,
   "metadata": {},
   "outputs": [
    {
     "name": "stderr",
     "output_type": "stream",
     "text": [
      "/Users/rabiyanoori/miniconda3/envs/py36/lib/python3.6/site-packages/ipykernel_launcher.py:8: ParserWarning: Falling back to the 'python' engine because the 'c' engine does not support regex separators (separators > 1 char and different from '\\s+' are interpreted as regex); you can avoid this warning by specifying engine='python'.\n",
      "  \n"
     ]
    },
    {
     "data": {
      "text/plain": [
       "array([[33.079347, -7.593124, -32.799271999999995],\n",
       "       [54.915934, -33.810819, -1.37573],\n",
       "       [17.438152, -5.27761, -13.745837],\n",
       "       [21.645635000000002, 26.941077000000003, -19.611492000000002],\n",
       "       [38.224291, 11.48241, -13.623292999999999],\n",
       "       [6.267575, 25.181870999999997, -16.701842000000003],\n",
       "       [43.660323999999996, -58.514435, -7.6941809999999995],\n",
       "       [29.444259000000002, 49.07663, -0.9521209999999999],\n",
       "       [28.718069, -54.508717000000004, -14.420098000000001],\n",
       "       [19.729065, -32.245093, -9.13263],\n",
       "       [34.917765, 25.065066, -3.766634],\n",
       "       [47.004645000000004, 20.874793, 11.634857],\n",
       "       [24.783182, -82.874647, -12.077967],\n",
       "       [40.808202, -3.305432, 1.892959],\n",
       "       [8.216735, 61.863248999999996, 8.139174],\n",
       "       [22.506788, -20.364649, -11.303707000000001],\n",
       "       [3.4278690000000003, 25.074243, -4.7472900000000005],\n",
       "       [40.812508, 40.111957000000004, 17.487273000000002],\n",
       "       [11.774463, -79.525795, 3.4041449999999998],\n",
       "       [8.294410000000001, 45.075418, 9.876705000000001],\n",
       "       [24.810789, -54.93484, -7.515384],\n",
       "       [27.690285, -83.455823, 20.802248000000002],\n",
       "       [11.890945, -74.310932, 7.2228699999999995],\n",
       "       [24.035479000000002, 43.044884, 33.62726],\n",
       "       [48.584832, -28.586783, 15.135759],\n",
       "       [6.702045, -43.575783, 12.352452],\n",
       "       [10.632581, -49.270173, 24.902874],\n",
       "       [4.846725, 9.108356, 26.416168],\n",
       "       [53.367495, -19.080477, 19.55066],\n",
       "       [37.713158, -25.333413, 52.415061],\n",
       "       [36.950384, -18.793378, 13.70819],\n",
       "       [24.874698000000002, -18.375774, 52.963887],\n",
       "       [39.153217, -54.570078, 43.080366999999995],\n",
       "       [9.131634, -56.584867, 39.751706],\n",
       "       [8.017632, 35.951673, 49.465444],\n",
       "       [21.444710999999998, -63.620709999999995, 54.468403],\n",
       "       [14.127554, -53.207193999999994, 59.343654],\n",
       "       [43.858507, 1.583726, 49.671365],\n",
       "       [25.309093, 12.552617999999999, 53.221126],\n",
       "       [7.224908999999999, 3.5862550000000004, 59.539744999999996],\n",
       "       [23.475495000000002, -5.407731, 67.187371],\n",
       "       [10.709611, -13.305076000000001, 7.165678999999999],\n",
       "       [9.487179, -17.753905, 10.494842],\n",
       "       [17.718292, -22.263157999999997, 6.059965],\n",
       "       [14.301560999999998, 11.010803999999998, 11.490516],\n",
       "       [26.495749, 2.776009, 1.303447],\n",
       "       [20.850489000000003, -3.0051229999999998, -0.189101],\n",
       "       [10.368263, 13.203593, -5.534431],\n",
       "       [-32.68179, -8.320528999999999, -31.793774],\n",
       "       [-54.720063, -33.892198, -1.422995],\n",
       "       [-15.859426000000001, -7.4528669999999995, -13.127293],\n",
       "       [-20.226823, 25.432919000000002, -19.77629],\n",
       "       [-37.990116, 11.507916, -13.796844],\n",
       "       [-5.461125, 25.482359, -16.462528],\n",
       "       [-42.827596, -58.286398999999996, -8.750547000000001],\n",
       "       [-28.607213, 49.09548, -1.984764],\n",
       "       [-28.371168, -54.266414000000005, -14.198982999999998],\n",
       "       [-18.955951000000002, -31.746896000000003, -9.391177],\n",
       "       [-34.158674, 24.411811, -4.311980999999999],\n",
       "       [-46.597057, 21.230801, 10.684409],\n",
       "       [-24.006268, -83.189723, -12.050953],\n",
       "       [-40.876740999999996, -3.7919629999999995, 1.243455],\n",
       "       [-7.6899169999999994, 61.850339, 8.155949],\n",
       "       [-21.143985999999998, -25.894536, -8.450204],\n",
       "       [-3.1711, 23.997086, -4.759688],\n",
       "       [-40.452662, 39.734075, 18.317703],\n",
       "       [-11.495151, -80.34120300000001, 3.6579589999999995],\n",
       "       [-8.230249, 44.635723, 8.745645],\n",
       "       [-24.553983, -55.141679, -7.629212],\n",
       "       [-27.764819, -83.351504, 20.366429999999998],\n",
       "       [-12.020475, -73.67925100000001, 6.866555],\n",
       "       [-23.527592000000002, 42.995398, 33.663668],\n",
       "       [-48.848261, -28.326444, 14.382295999999998],\n",
       "       [-4.9089089999999995, -43.424849, 15.482610999999999],\n",
       "       [-10.925561, -50.543513, 25.301208],\n",
       "       [-4.746795, 8.564223, 26.351959],\n",
       "       [-52.006465999999996, -19.011937, 19.451158],\n",
       "       [-37.573215000000005, -25.088520000000003, 52.189595000000004],\n",
       "       [-36.797422999999995, -19.116026, 13.896768],\n",
       "       [-24.507209, -18.054854000000002, 51.754528],\n",
       "       [-38.940697, -54.67801600000001, 43.108789],\n",
       "       [-9.154303, -57.042530000000006, 39.462044],\n",
       "       [-7.5086699999999995, 36.248376, 49.003248],\n",
       "       [-21.54474, -63.315526, 54.590945],\n",
       "       [-13.094641000000001, -53.667567000000005, 59.44568100000001],\n",
       "       [-43.67127, 0.704116, 50.160082],\n",
       "       [-24.18476, 13.958344, 53.500476],\n",
       "       [-6.812133, 3.455651, 59.219364],\n",
       "       [-22.721598, -4.686517, 67.235649],\n",
       "       [-7.675864999999999, -14.379325, 7.5519050000000005],\n",
       "       [-6.747257, -19.515701999999997, 10.371169],\n",
       "       [-14.908959, -23.774755, 5.438157],\n",
       "       [-11.785498, 9.976992999999998, 10.737392999999999],\n",
       "       [-23.901491, 1.48265, 1.339547],\n",
       "       [-17.957794, -4.120351, -0.333891],\n",
       "       [-8.463883000000001, 12.496614, -6.170429]], dtype=object)"
      ]
     },
     "execution_count": 6,
     "metadata": {},
     "output_type": "execute_result"
    }
   ],
   "source": [
    "# tvb data\n",
    "# get the coordinates data\n",
    "#sep is a regex expression bc the delimeter ranges from 1-3 white spaces\n",
    "\n",
    "import pandas as pd\n",
    "import numpy as np\n",
    "\n",
    "df = pd.read_csv(\"/Users/rabiyanoori/Documents/GitHub/Brain_Viz/_scratch/centres.txt\", sep = \" * \", header=None)\n",
    "coords_data = df.to_numpy()\n",
    "coord_names = coords_data[:,0]\n",
    "coords_data = coords_data[:,1:4]\n",
    "np.save(\"coords.npy\", coords_data)\n"
   ]
  },
  {
   "cell_type": "code",
   "execution_count": 46,
   "metadata": {},
   "outputs": [
    {
     "name": "stderr",
     "output_type": "stream",
     "text": [
      "/Users/rabiyanoori/miniconda3/envs/py36/lib/python3.6/site-packages/ipykernel_launcher.py:5: ParserWarning: Falling back to the 'python' engine because the 'c' engine does not support regex separators (separators > 1 char and different from '\\s+' are interpreted as regex); you can avoid this warning by specifying engine='python'.\n",
      "  \"\"\"\n"
     ]
    }
   ],
   "source": [
    "# tvb data\n",
    "# get the weights data\n",
    "#sep is a regex expression bc the delimeter ranges from 1-3 white spaces\n",
    "\n",
    "df = pd.read_csv(\"/Users/rabiyanoori/Documents/GitHub/Brain_Viz/Figs_for_poster/coords.txt\", sep = \" * \", header=None)\n",
    "weights_data = df.to_numpy()\n",
    "weights_data[:,:3]\n",
    "np.save(\"coords.npy\", weights_data[:,:3])"
   ]
  },
  {
   "cell_type": "code",
   "execution_count": null,
   "metadata": {},
   "outputs": [],
   "source": [
    "plt.hist(weights_data)\n",
    "plt.show()\n",
    "print()"
   ]
  },
  {
   "cell_type": "code",
   "execution_count": null,
   "metadata": {},
   "outputs": [],
   "source": [
    "weights_data > 2"
   ]
  },
  {
   "cell_type": "markdown",
   "metadata": {},
   "source": [
    "# Importing Jeremie's Data"
   ]
  },
  {
   "cell_type": "code",
   "execution_count": 4,
   "metadata": {},
   "outputs": [
    {
     "name": "stderr",
     "output_type": "stream",
     "text": [
      "/Users/rabiyanoori/miniconda3/envs/py36/lib/python3.6/site-packages/ipykernel_launcher.py:5: ParserWarning: Falling back to the 'python' engine because the 'c' engine does not support regex separators (separators > 1 char and different from '\\s+' are interpreted as regex); you can avoid this warning by specifying engine='python'.\n",
      "  \"\"\"\n"
     ]
    },
    {
     "data": {
      "image/png": "[encoded data removed]",
      "text/plain": [
       "<matplotlib.figure.Figure at 0x10f7104a8>"
      ]
     },
     "metadata": {
      "needs_background": "light"
     },
     "output_type": "display_data"
    }
   ],
   "source": [
    "# the data that jeremie sent\n",
    "# get the weights data\n",
    "#sep is a regex expression bc the delimeter ranges from 1-3 white spaces\n",
    "\n",
    "df = pd.read_csv(\"/Users/rabiyanoori/Documents/GitHub/Brain_Viz/_scratch/Weights96.txt\", sep = \" * \", header=None)\n",
    "weights_j = df.to_numpy()\n",
    "plt.hist(weights_j)\n",
    "plt.show()\n",
    "# np.save(\"weights_j.npy\", weights_j)"
   ]
  },
  {
   "cell_type": "code",
   "execution_count": 2,
   "metadata": {},
   "outputs": [
    {
     "name": "stdout",
     "output_type": "stream",
     "text": [
      "0.0 100.0\n"
     ]
    },
    {
     "data": {
      "image/png": "[encoded data removed]",
      "text/plain": [
       "<matplotlib.figure.Figure at 0x11e14c8d0>"
      ]
     },
     "metadata": {
      "needs_background": "light"
     },
     "output_type": "display_data"
    }
   ],
   "source": [
    "# March 10 2020- converting new cv to numpy\n",
    "#sep is a regex expression bc the delimeter ranges from 1-3 white spaces\n",
    "# sr ratio = 0 \\t\n",
    "\n",
    "import pandas as pd\n",
    "import numpy as np\n",
    "import matplotlib.pyplot as plt\n",
    "%matplotlib inline\n",
    "\n",
    "\n",
    "\n",
    "df = pd.read_csv(\"/Users/rabiyanoori/Documents/GitHub/Brain_Viz/_scratch/temp/Kuramoto - Conduction speed matrix.txt\", sep = \"\\t\", header=None)\n",
    "temp = df.to_numpy()\n",
    "\n",
    "cv_after = np.ones((96,96))*-999\n",
    "cntr = 0\n",
    "for i in range(96):\n",
    "    for j in range(96):\n",
    "        cv_after[i,j] = temp[cntr,3]\n",
    "        cntr= cntr + 1\n",
    "\n",
    "print(np.min(cv_after), np.max(cv_after))\n",
    "plt.hist(cv_after)\n",
    "plt.show()\n",
    "\n",
    "np.save(\"cv.npy\", cv_after)"
   ]
  },
  {
   "cell_type": "code",
   "execution_count": 34,
   "metadata": {},
   "outputs": [
    {
     "data": {
      "image/png": "[encoded data removed]",
      "text/plain": [
       "<matplotlib.figure.Figure at 0x11c7b4ac8>"
      ]
     },
     "metadata": {
      "needs_background": "light"
     },
     "output_type": "display_data"
    },
    {
     "name": "stdout",
     "output_type": "stream",
     "text": [
      "0.0 100.0\n"
     ]
    }
   ],
   "source": [
    "# the data that jeremie sent\n",
    "# get the coordinates data\n",
    "#sep is a regex expression bc the delimeter ranges from 1-3 white spaces\n",
    "\n",
    "#df = pd.read_csv(\"/Users/rabiyanoori/Documents/GitHub/Brain_Viz/_scratch/Kuramoto - Conduction speed matrix - before.txt\", sep='\\t', header=None)\n",
    "df = pd.read_csv(\"/Users/rabiyanoori/Documents/GitHub/Brain_Viz/_scratch/Kuramoto - Conduction speed matrix - after.txt\", sep='\\t', header=None)\n",
    "\n",
    "\n",
    "temp = df.to_numpy()\n",
    "cv_data = np.ones((96,96))*-999\n",
    "cntr = 0\n",
    "for i in range(96):\n",
    "    for j in range(96):\n",
    "        cv_data[i,j] = temp[cntr,3]\n",
    "        cntr= cntr + 1\n",
    "#np.save(\"cv_before.npy\", cv_data)\n",
    "plt.hist(cv_data)\n",
    "plt.show()\n",
    "print(np.min(cv_data), np.max(cv_data))\n"
   ]
  },
  {
   "cell_type": "code",
   "execution_count": 3,
   "metadata": {},
   "outputs": [
    {
     "name": "stderr",
     "output_type": "stream",
     "text": [
      "/Users/rabiyanoori/miniconda3/envs/py36/lib/python3.6/site-packages/ipykernel_launcher.py:5: ParserWarning: Falling back to the 'python' engine because the 'c' engine does not support regex separators (separators > 1 char and different from '\\s+' are interpreted as regex); you can avoid this warning by specifying engine='python'.\n",
      "  \"\"\"\n"
     ]
    },
    {
     "data": {
      "text/plain": [
       "array([[ 0.       , 46.385806 , 24.759684 , ..., 67.04211  , 60.587547 ,\n",
       "        53.277883 ],\n",
       "       [46.385806 ,  0.       , 48.700592 , ..., 86.40132  , 78.69682  ,\n",
       "        78.640757 ],\n",
       "       [24.759684 , 48.700592 ,  0.       , ..., 44.522309 , 37.869414 ,\n",
       "        32.314474 ],\n",
       "       ...,\n",
       "       [67.04211  , 86.40132  , 44.522309 , ...,  0.       ,  8.3379586,\n",
       "        20.396738 ],\n",
       "       [60.587547 , 78.69682  , 37.869414 , ...,  8.3379586,  0.       ,\n",
       "        20.008075 ],\n",
       "       [53.277883 , 78.640757 , 32.314474 , ..., 20.396738 , 20.008075 ,\n",
       "         0.       ]])"
      ]
     },
     "execution_count": 3,
     "metadata": {},
     "output_type": "execute_result"
    }
   ],
   "source": [
    "# the data that jeremie sent\n",
    "# get the lengths data\n",
    "#sep is a regex expression bc the delimeter ranges from 1-3 white spaces\n",
    "\n",
    "df = pd.read_csv(\"/Users/rabiyanoori/Documents/GitHub/Brain_Viz/_scratch/Lengths96.txt\", sep = \" * \", header=None)\n",
    "lengths_j = df.to_numpy()\n",
    "lengths_j\n",
    "# np.save(\"lengths_j.npy\", lengths_j)"
   ]
  },
  {
   "cell_type": "code",
   "execution_count": 4,
   "metadata": {},
   "outputs": [
    {
     "data": {
      "image/png": "[encoded data removed]",
      "text/plain": [
       "<matplotlib.figure.Figure at 0x117f08390>"
      ]
     },
     "metadata": {
      "needs_background": "light"
     },
     "output_type": "display_data"
    }
   ],
   "source": [
    "plt.hist(lengths_j)\n",
    "plt.show()"
   ]
  },
  {
   "cell_type": "code",
   "execution_count": 30,
   "metadata": {},
   "outputs": [
    {
     "data": {
      "text/plain": [
       "array([], dtype=float64)"
      ]
     },
     "execution_count": 30,
     "metadata": {},
     "output_type": "execute_result"
    }
   ],
   "source": [
    "cv_data[cv_data<3][cv_data[cv_data<3]>0]"
   ]
  },
  {
   "cell_type": "code",
   "execution_count": 24,
   "metadata": {},
   "outputs": [
    {
     "data": {
      "text/plain": [
       "array([[ 3.   , 50.663,  0.   , ...,  0.   ,  0.   ,  0.   ],\n",
       "       [ 3.   ,  3.   ,  3.   , ...,  0.   ,  0.   ,  0.   ],\n",
       "       [ 0.   ,  0.   ,  3.   , ...,  0.   ,  0.   ,  0.   ],\n",
       "       ...,\n",
       "       [ 0.   ,  0.   ,  0.   , ...,  0.   ,  3.   ,  0.   ],\n",
       "       [ 0.   ,  0.   ,  0.   , ...,  0.   ,  0.   ,  0.   ],\n",
       "       [ 0.   ,  0.   ,  0.   , ...,  0.   ,  3.   ,  0.   ]])"
      ]
     },
     "execution_count": 24,
     "metadata": {},
     "output_type": "execute_result"
    }
   ],
   "source": [
    "cv_data"
   ]
  },
  {
   "cell_type": "code",
   "execution_count": 25,
   "metadata": {},
   "outputs": [
    {
     "name": "stdout",
     "output_type": "stream",
     "text": [
      "[[-999. -999. -999. ... -999. -999. -999.]\n",
      " [-999. -999. -999. ... -999. -999. -999.]\n",
      " [-999. -999.    3. ... -999. -999. -999.]\n",
      " ...\n",
      " [-999. -999. -999. ... -999.    3. -999.]\n",
      " [-999. -999. -999. ... -999. -999. -999.]\n",
      " [-999. -999. -999. ... -999.    3. -999.]] (96, 96)\n",
      "[[False False False ... False False False]\n",
      " [False False False ... False False False]\n",
      " [False False  True ... False False False]\n",
      " ...\n",
      " [False False False ... False  True False]\n",
      " [False False False ... False False False]\n",
      " [False False False ... False  True False]] [[ True  True  True ...  True  True  True]\n",
      " [ True  True  True ...  True  True  True]\n",
      " [ True  True  True ...  True  True  True]\n",
      " ...\n",
      " [ True  True  True ...  True  True  True]\n",
      " [ True  True  True ...  True  True  True]\n",
      " [ True  True  True ...  True  True  True]] [ True  True  True  True  True  True  True  True  True  True  True  True\n",
      "  True  True  True  True  True  True  True  True  True]\n"
     ]
    }
   ],
   "source": [
    "#testing\n",
    "edges_cv_a = cv_data\n",
    "#applying mask for diff regions\n",
    "mask = np.load(\"mask3.npy\")\n",
    "edges = np.where(mask, -999, edges_cv_a)\n",
    "\n",
    "print(edges, edges.shape)\n",
    "\n",
    "#diff levels for diff weights\n",
    "#edges = edges_cv_a\n",
    "select0 = edges > 0\n",
    "select00 = edges <10\n",
    "select_0 = select0 == select00\n",
    "\n",
    "select1 = edges > 10\n",
    "select11 = edges <20\n",
    "select_1 = select1 == select11\n",
    "\n",
    "select2 = edges > 20\n",
    "select22 = edges <30\n",
    "select_2 = select2 == select22\n",
    "\n",
    "select3 = edges > 30\n",
    "select33 = edges <40\n",
    "select_3 = select3 == select33\n",
    "\n",
    "#select_4 = edges > 40\n",
    "\n",
    "select4 = edges > 40\n",
    "select44 = edges <50\n",
    "select_4 = select4 == select44\n",
    "\n",
    "select5 = edges > 50\n",
    "select55 = edges <60\n",
    "select_5 = select5 == select55\n",
    "\n",
    "select6 = edges > 60\n",
    "select66 = edges <70\n",
    "select_6 = select6 == select66\n",
    "\n",
    "select_7 = edges > 70"
   ]
  },
  {
   "cell_type": "code",
   "execution_count": 32,
   "metadata": {},
   "outputs": [
    {
     "data": {
      "text/plain": [
       "False"
      ]
     },
     "execution_count": 32,
     "metadata": {},
     "output_type": "execute_result"
    }
   ],
   "source": [
    "select_0.all()"
   ]
  },
  {
   "cell_type": "markdown",
   "metadata": {},
   "source": [
    "# Plotting"
   ]
  },
  {
   "cell_type": "code",
   "execution_count": 1,
   "metadata": {},
   "outputs": [],
   "source": [
    "import seaborn as sns\n",
    "import matplotlib.pyplot as plt\n",
    "%matplotlib inline"
   ]
  },
  {
   "cell_type": "code",
   "execution_count": 19,
   "metadata": {},
   "outputs": [
    {
     "data": {
      "text/plain": [
       "<matplotlib.axes._subplots.AxesSubplot at 0x1a1be05f60>"
      ]
     },
     "execution_count": 19,
     "metadata": {},
     "output_type": "execute_result"
    },
    {
     "data": {
      "image/png": "[encoded data removed]",
      "text/plain": [
       "<matplotlib.figure.Figure at 0x1a1bc47128>"
      ]
     },
     "metadata": {
      "needs_background": "light"
     },
     "output_type": "display_data"
    }
   ],
   "source": [
    "sns.heatmap(cv_data)"
   ]
  },
  {
   "cell_type": "code",
   "execution_count": 16,
   "metadata": {},
   "outputs": [
    {
     "data": {
      "text/plain": [
       "(96,)"
      ]
     },
     "execution_count": 16,
     "metadata": {},
     "output_type": "execute_result"
    }
   ],
   "source": [
    "coord_names.shape"
   ]
  },
  {
   "cell_type": "code",
   "execution_count": null,
   "metadata": {},
   "outputs": [],
   "source": [
    "\n",
    "cmap = \"viridis\"\n"
   ]
  },
  {
   "cell_type": "code",
   "execution_count": null,
   "metadata": {},
   "outputs": [],
   "source": [
    "coord_names_skip = np.copy(coord_names)\n",
    "for i in range(len(coord_names)):\n",
    "    if i%6 !=0:\n",
    "        coord_names_skip[i] = \"\""
   ]
  },
  {
   "cell_type": "code",
   "execution_count": null,
   "metadata": {},
   "outputs": [],
   "source": [
    "plt.figure(figsize=(17, 17))\n",
    "\n",
    "\n",
    "# plt.figure(dpi = 200)\n",
    "sns.heatmap(lengths_j, \n",
    "           cmap = cmap,\n",
    "            yticklabels = coord_names_skip,\n",
    "            xticklabels= [],\n",
    "             square = True\n",
    "           )\n",
    "plt.yticks(fontsize = 8, multialignment ='center')\n",
    "plt.tight_layout()\n",
    "plt.savefig(\"small_mat.jpg\",dpi=1000, transparent = True)\n",
    "plt.show()"
   ]
  },
  {
   "cell_type": "code",
   "execution_count": null,
   "metadata": {},
   "outputs": [],
   "source": [
    "plt.figure(figsize=(17, 17))\n",
    "# plt.figure(dpi = 200)\n",
    "\n",
    "\n",
    "sns.heatmap(lengths_j, \n",
    "           cmap = cmap,\n",
    "            yticklabels = coord_names,\n",
    "            xticklabels= [],\n",
    "            square = True\n",
    "           )\n",
    "plt.yticks(fontsize = 8, multialignment ='center')\n",
    "plt.savefig(\"big_mat.jpg\", dpi=1000, transparent = True)\n",
    "plt.show()"
   ]
  },
  {
   "cell_type": "code",
   "execution_count": null,
   "metadata": {},
   "outputs": [],
   "source": []
  },
  {
   "cell_type": "code",
   "execution_count": null,
   "metadata": {},
   "outputs": [],
   "source": [
    "import numpy as np\n",
    "import matplotlib.pyplot as plt\n",
    "\n",
    "from matplotlib.ticker import MaxNLocator\n",
    "from mpl_toolkits.axes_grid1.inset_locator import mark_inset\n",
    "from mpl_toolkits.axes_grid1.inset_locator import zoomed_inset_axes\n",
    "\n",
    "dtype = [('temp', 'f4'), ('depth', 'f4')]\n",
    "kw = dict(usecols=(0, 1), dtype=dtype)\n",
    "xbt_raw = np.genfromtxt('./data/C4_XBT_22.EDF', skip_header=41, **kw)\n",
    "xbt_smoo = np.loadtxt('./data/C4_XBT_22.ASC', **kw)\n",
    "ctd = np.loadtxt(\"./data/C4_CTD_22.ASC\", **kw)\n",
    "deg = u\"\\u00b0\"\n",
    "raw = dict(color='#FF8000', marker='.', linestyle='none', alpha=0.5, label='XBT Raw')\n",
    "smoo = dict(color='#2E2E2E', linestyle='-.', label='XBT Smooth')\n",
    "comp = dict(color='#0B610B', label='CTD')\n",
    "\n",
    "fig, ax = plt.subplots(figsize=(4, 6))\n",
    "ax.invert_yaxis()\n",
    "ax.plot(ctd['depth'], ctd['temp'], **comp)\n",
    "ax.plot(xbt_raw['depth'], xbt_raw['temp'], **raw)\n",
    "ax.plot(xbt_smoo['depth'], xbt_smoo['temp'], **smoo)\n",
    "ax.set_ylabel('Pressure [dbar]')\n",
    "ax.set_xlabel(u'Temperature %sC' % deg)\n",
    "ax.legend(numpoints=1, loc='upper left')\n",
    "\n",
    "# Zoom 1.\n",
    "axins = zoomed_inset_axes(ax, 5, loc=5)\n",
    "axins.plot(ctd['depth'], ctd['temp'], **comp)\n",
    "axins.plot(xbt_raw['depth'], xbt_raw['temp'], **raw)\n",
    "axins.plot(xbt_smoo['depth'], xbt_smoo['temp'], **smoo)\n",
    "axins.invert_yaxis()\n",
    "axins.axis([3.5, 3.8, 1420, 1300])\n",
    "axins.xaxis.tick_top()\n",
    "mark_inset(ax, axins, loc1=2, loc2=4, fc=\"none\", ec=\"0.5\")\n",
    "axins.xaxis.set_major_locator(MaxNLocator(nbins=1, prune='lower'))\n",
    "\n",
    "# Zoom 2.\n",
    "axins_2 = zoomed_inset_axes(axins, 10,  loc=4,\n",
    "                     bbox_to_anchor=(1.2, 0.75),\n",
    "                     bbox_transform=ax.figure.transFigure)\n",
    "\n",
    "axins_2.plot(ctd['depth'], ctd['temp'], **comp)\n",
    "axins_2.plot(xbt_raw['depth'], xbt_raw['temp'], **raw)\n",
    "axins_2.plot(xbt_smoo['depth'], xbt_smoo['temp'], **smoo)\n",
    "axins_2.axis([3.6, 3.75, 1360, 1340])\n",
    "axins_2.invert_yaxis()\n",
    "axins_2.set_yticks([])\n",
    "axins_2.set_xticks([])\n",
    "axins_2.set_axis_bgcolor('none')\n",
    "axes = mark_inset(axins, axins_2, loc1=2, loc2=4, fc=\"none\", ec=\"0.5\")"
   ]
  },
  {
   "cell_type": "code",
   "execution_count": null,
   "metadata": {},
   "outputs": [],
   "source": [
    "sns.heatmap(weights_j,\n",
    "           cmap = cmap)"
   ]
  },
  {
   "cell_type": "code",
   "execution_count": null,
   "metadata": {},
   "outputs": [],
   "source": [
    "plt.hist(weights_j)\n",
    "plt.show()\n",
    "cv_data[cv_data > 3.]"
   ]
  },
  {
   "cell_type": "code",
   "execution_count": null,
   "metadata": {},
   "outputs": [],
   "source": [
    "from visbrain.objects import ConnectObj, SceneObj, SourceObj, BrainObj\n",
    "from visbrain.io import download_file\n",
    "arch = np.load(download_file('phase_sync_delta.npz', astype='example_data'))"
   ]
  },
  {
   "cell_type": "code",
   "execution_count": null,
   "metadata": {},
   "outputs": [],
   "source": [
    "nodes, edges = arch['nodes'], arch['edges']\n",
    "# Create the scene with a black background\n",
    "sc = SceneObj(size=(1500, 600))\n"
   ]
  },
  {
   "cell_type": "code",
   "execution_count": null,
   "metadata": {},
   "outputs": [],
   "source": [
    "import seaborn as sns\n",
    "sns.heatmap(edges)\n"
   ]
  },
  {
   "cell_type": "code",
   "execution_count": null,
   "metadata": {},
   "outputs": [],
   "source": [
    "import matplotlib.pyplot as plt\n",
    "\n",
    "plt.show()"
   ]
  },
  {
   "cell_type": "code",
   "execution_count": null,
   "metadata": {},
   "outputs": [],
   "source": [
    "edges[46,7] ==edges[7,46]"
   ]
  },
  {
   "cell_type": "code",
   "execution_count": null,
   "metadata": {},
   "outputs": [],
   "source": [
    "temp = np.ones((4,4))\n",
    "temp[0,2] = 34\n",
    "temp[0,3] = 20"
   ]
  },
  {
   "cell_type": "code",
   "execution_count": null,
   "metadata": {},
   "outputs": [],
   "source": [
    "temp"
   ]
  },
  {
   "cell_type": "code",
   "execution_count": null,
   "metadata": {},
   "outputs": [],
   "source": [
    "thing1 = temp > 10"
   ]
  },
  {
   "cell_type": "code",
   "execution_count": null,
   "metadata": {},
   "outputs": [],
   "source": [
    "thing2 = temp < 25"
   ]
  },
  {
   "cell_type": "code",
   "execution_count": null,
   "metadata": {},
   "outputs": [],
   "source": [
    "thing1 == thing2"
   ]
  },
  {
   "cell_type": "code",
   "execution_count": 49,
   "metadata": {},
   "outputs": [],
   "source": [
    "import numpy as np\n",
    "\n",
    "from visbrain.objects import ConnectObj, SceneObj, SourceObj, BrainObj\n",
    "from visbrain.io import download_file"
   ]
  },
  {
   "cell_type": "code",
   "execution_count": 50,
   "metadata": {
    "scrolled": true
   },
   "outputs": [
    {
     "name": "stderr",
     "output_type": "stream",
     "text": [
      "File already dowloaded (/Users/rabiyanoori/visbrain_data/example_data/phase_sync_delta.npz).\n"
     ]
    }
   ],
   "source": [
    "# Download data\n",
    "arch = np.load(download_file('phase_sync_delta.npz', astype='example_data'))\n",
    "nodes, edges = arch['nodes'], arch['edges']\n"
   ]
  },
  {
   "cell_type": "code",
   "execution_count": 56,
   "metadata": {},
   "outputs": [
    {
     "data": {
      "text/plain": [
       "(10, 3)"
      ]
     },
     "execution_count": 56,
     "metadata": {},
     "output_type": "execute_result"
    }
   ],
   "source": [
    "import random\n",
    "indx = []\n",
    "\n",
    "for i in range(10):\n",
    "    indx.append(random.randint(1,100))\n",
    "\n",
    "nodes[indx,:]"
   ]
  },
  {
   "cell_type": "code",
   "execution_count": 54,
   "metadata": {},
   "outputs": [
    {
     "data": {
      "text/plain": [
       "96"
      ]
     },
     "execution_count": 54,
     "metadata": {},
     "output_type": "execute_result"
    }
   ],
   "source": []
  },
  {
   "cell_type": "code",
   "execution_count": null,
   "metadata": {},
   "outputs": [],
   "source": []
  }
 ],
 "metadata": {
  "kernelspec": {
   "display_name": "Python [conda env:py36]",
   "language": "python",
   "name": "py36"
  },
  "language_info": {
   "codemirror_mode": {
    "name": "ipython",
    "version": 3
   },
   "file_extension": ".py",
   "mimetype": "text/x-python",
   "name": "python",
   "nbconvert_exporter": "python",
   "pygments_lexer": "ipython3",
   "version": "3.6.8"
  }
 },
 "nbformat": 4,
 "nbformat_minor": 2
}
